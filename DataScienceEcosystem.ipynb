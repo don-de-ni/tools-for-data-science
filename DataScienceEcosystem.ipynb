{
  "metadata": {
    "language_info": {
      "codemirror_mode": {
        "name": "python",
        "version": 3
      },
      "file_extension": ".py",
      "mimetype": "text/x-python",
      "name": "python",
      "nbconvert_exporter": "python",
      "pygments_lexer": "ipython3",
      "version": "3.8"
    },
    "kernelspec": {
      "name": "python",
      "display_name": "Python (Pyodide)",
      "language": "python"
    }
  },
  "nbformat_minor": 4,
  "nbformat": 4,
  "cells": [
    {
      "cell_type": "code",
      "source": "#(2) DataScienceEcosystem\n\n\n#(3) that's an introduction\n\n#(4) Python, Julia, R and Java are the main data science tools\n\n#(5) Pandas, Numpy, Scikit learn, Apache, scapy, ddkt, libpcap and LOIC are some examples\n\n#(6) Jupyter notebooks, Apache hadoop, Tableau, SQL and KNIME are some tools for data science\n\n#(7)  (sum: 1+1=2) (multiplication: 1*1=1) (subtraction: 2-1=1) (division: 2/2=1)\n\n#(8) The answer is below\n\nnum1= 1\nnum2=2\n\nmultiplication = (num1*num2)\nprint (multiplication)\n\nadd_numbers = (num1+num2)\nprint (add_numbers)\n\n#(9) The answer is below\n\nminutes = 60\nhours = minutes/60\nprint (hours)\n\n# (10) the objective of this notebook is to practice and learn how to use programming for data science\n\n# (11) Micael Andrade Nunes\n\n\n\n\n\n",
      "metadata": {
        "trusted": true
      },
      "execution_count": 6,
      "outputs": [
        {
          "name": "stdout",
          "text": "2\n3\n1.0\n",
          "output_type": "stream"
        }
      ]
    },
    {
      "cell_type": "code",
      "source": "",
      "metadata": {},
      "execution_count": null,
      "outputs": []
    }
  ]
}